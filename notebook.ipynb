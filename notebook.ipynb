{
 "cells": [
  {
   "cell_type": "code",
   "execution_count": 3,
   "metadata": {},
   "outputs": [],
   "source": [
    "from pathlib import Path, PosixPath\n",
    "\n",
    "import numpy as np\n",
    "import nilearn\n",
    "import nibabel as nb\n",
    "import mne\n",
    "mne.set_log_level('warning')\n",
    "from sklearn.decomposition import FastICA\n",
    "\n",
    "from helpers import *"
   ]
  },
  {
   "cell_type": "code",
   "execution_count": 15,
   "metadata": {},
   "outputs": [
    {
     "name": "stdout",
     "output_type": "stream",
     "text": [
      "exists\n"
     ]
    }
   ],
   "source": [
    "a = Path(\"/\")\n",
    "if a.exists():\n",
    "    print(\"exists\")"
   ]
  },
  {
   "cell_type": "code",
   "execution_count": 16,
   "metadata": {},
   "outputs": [],
   "source": [
    "data_dir = Path(\"/Users/witherscp/Desktop/MEG_Hackathon_data\")\n",
    "fpath = data_dir / \"ica_11components.npy\"\n",
    "arr = np.load(fpath)"
   ]
  },
  {
   "cell_type": "code",
   "execution_count": 20,
   "metadata": {},
   "outputs": [],
   "source": [
    "fa_path = data_dir / \"sub-ON48555_FA_tlrc_blur10mm.nii\"\n",
    "img = nb.load(fa_path)\n",
    "data = img.get_fdata()"
   ]
  },
  {
   "cell_type": "code",
   "execution_count": 24,
   "metadata": {},
   "outputs": [],
   "source": [
    "for i in range(arr.shape[1]):\n",
    "    fa_component = np.reshape(arr[:data.size,i], \n",
    "                            newshape=data.shape)\n",
    "    new_img = nb.Nifti1Image(fa_component,\n",
    "                            affine=img.affine)\n",
    "    nb.save(new_img, (data_dir / f\"FA{i+1}.nii\"))"
   ]
  },
  {
   "cell_type": "code",
   "execution_count": 23,
   "metadata": {},
   "outputs": [],
   "source": []
  }
 ],
 "metadata": {
  "interpreter": {
   "hash": "d1f6a33b9ed6940d9cf1d540893927eb445379fa4383df46fbdb872d00754106"
  },
  "kernelspec": {
   "display_name": "Python 3.8.8 ('base')",
   "language": "python",
   "name": "python3"
  },
  "language_info": {
   "codemirror_mode": {
    "name": "ipython",
    "version": 3
   },
   "file_extension": ".py",
   "mimetype": "text/x-python",
   "name": "python",
   "nbconvert_exporter": "python",
   "pygments_lexer": "ipython3",
   "version": "3.8.8"
  },
  "orig_nbformat": 4
 },
 "nbformat": 4,
 "nbformat_minor": 2
}
